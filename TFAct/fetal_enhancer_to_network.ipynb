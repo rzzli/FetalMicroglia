{
 "cells": [
  {
   "cell_type": "code",
   "execution_count": null,
   "metadata": {},
   "outputs": [],
   "source": [
    "# the four packages below are the most useful and basic\n",
    "import pandas as pd\n",
    "import numpy as np\n",
    "import matplotlib.pyplot as plt\n",
    "import seaborn as sns\n",
    "import scipy.stats\n",
    "# a couple of more advanced packages\n",
    "from scipy.stats.stats import pearsonr,spearmanr\n",
    "from matplotlib_venn import venn2\n",
    "import mygene  \n",
    "\n",
    "mg = mygene.MyGeneInfo()\n",
    "#very important line that enables showing plots within jupyter notebook\n",
    "%matplotlib inline"
   ]
  },
  {
   "cell_type": "markdown",
   "metadata": {},
   "source": [
    "## select enhancer"
   ]
  },
  {
   "cell_type": "code",
   "execution_count": null,
   "metadata": {},
   "outputs": [],
   "source": [
    "%%bash\n",
    "export PATH=$PATH:/bioinformatics/homer/bin/\n",
    "\n",
    "peak_file='../fetal_peak_atac/Fetal_peaks_164.txt'\n",
    "output='../data/fetal_peak_anno.txt'\n",
    "\n",
    "annotatePeaks.pl $peak_file hg38 -norm 1e7 > $output\n",
    "echo \"done all\""
   ]
  },
  {
   "cell_type": "code",
   "execution_count": null,
   "metadata": {},
   "outputs": [],
   "source": [
    "annot_file = '../data/fetal_peak_anno.txt'\n",
    "annot_file_df = pd.read_csv(annot_file, sep='\\t', index_col=0)\n",
    "annots = annot_file_df['Annotation']\n",
    "\n",
    "filtered_df1 = annot_file_df.loc[annots=='Intergenic'] \n",
    "filtered_df2 = annot_file_df.loc[annot_file_df.Annotation.str.contains('intron')]\n",
    "filtered_df=pd.concat([filtered_df1,filtered_df2])\n",
    "scaled_size = 500\n",
    "mid_points = (filtered_df.loc[:,'Start']+filtered_df.loc[:,'End'])//2\n",
    "filtered_df.loc[:,'Start'] = mid_points - int(scaled_size/2)\n",
    "filtered_df.loc[:,'End'] = mid_points + int(scaled_size/2)\n",
    "filtered_df.iloc[:,:6].to_csv(annot_file.replace('.txt', '_scaled.txt'), sep='\\t')"
   ]
  },
  {
   "cell_type": "code",
   "execution_count": null,
   "metadata": {},
   "outputs": [],
   "source": [
    "%%bash\n",
    "export PATH=$PATH:/bioinformatics/homer/bin/\n",
    "peak_file=../data/fetal_peak_anno_scaled.txt\n",
    "annot_file=../data/h3k27ac_fetal_peak_anno_scaled.txt\n",
    "tag_dir='../fetal_chip_tag/chip/combined_h3k27ac'\n",
    "annotatePeaks.pl $peak_file hg38 -norm 1e7 -d $tag_dir > $annot_file"
   ]
  },
  {
   "cell_type": "code",
   "execution_count": null,
   "metadata": {},
   "outputs": [],
   "source": [
    "directory = './'\n",
    "annot_file = '../data/h3k27ac_fetal_peak_anno_scaled.txt'\n",
    "annot_df = pd.read_csv(directory + annot_file, sep='\\t', index_col=0)\n",
    "annot_df.index.name = None\n",
    "annot = np.array(annot_df.loc[:,'Annotation'])\n",
    "select_region=annot_df.loc[(annot_df.iloc[:,18]>16) ]\n",
    "scaled_size = 200\n",
    "mid_points = (select_region.loc[:,'Start']+select_region.loc[:,'End'])//2\n",
    "select_region.loc[:,'Start'] = mid_points - int(scaled_size/2)\n",
    "select_region.loc[:,'End'] = mid_points + int(scaled_size/2)\n",
    "select_region.to_csv(\"../data/enhancer_fetal_cutoff16tag.txt\",sep = \"\\t\")"
   ]
  },
  {
   "cell_type": "markdown",
   "metadata": {},
   "source": [
    "## search TF motifs from enhancer"
   ]
  },
  {
   "cell_type": "code",
   "execution_count": null,
   "metadata": {},
   "outputs": [],
   "source": [
    "%%bash \n",
    "export PATH=$PATH:/bioinformatics/homer/bin/\n",
    "#mkdir -p motif\n",
    "motif_lib=~/daima/python/merge_motif_Jun2020/jaspar/Homer_format_motif_JASPAR.txt #http://jaspar.genereg.net/matrix-clusters/vertebrates/?detail=true\n",
    "\n",
    "outfile=../motif/fetal_enhancer_motif.txt\n",
    "findMotifsGenome.pl ../data/enhancer_fetal_cutoff16tag.txt hg38 ../motif/ -size 200 -p 40 -find $motif_lib > $outfile"
   ]
  },
  {
   "cell_type": "markdown",
   "metadata": {},
   "source": [
    "## build TF-gene network"
   ]
  },
  {
   "cell_type": "code",
   "execution_count": null,
   "metadata": {},
   "outputs": [],
   "source": [
    "%%bash\n",
    "export PATH=$PATH:/bioinformatics/homer/bin/\n",
    "\n",
    "mergePeaks -d 100 ../data/enhancer_fetal_cutoff16tag.txt ../data/enhancer_fetal_cutoff16tag.txt > ../data/fetal_adult_merged_peak.txt"
   ]
  },
  {
   "cell_type": "code",
   "execution_count": null,
   "metadata": {},
   "outputs": [],
   "source": [
    "merged_peak = pd.read_csv('../data/fetal_adult_merged_peak.txt',sep='\\t',header=0,index_col=0)\n",
    "fetal_unique_enhancer= merged_peak[merged_peak[\"../data/enhancer_fetal_cutoff16tag.txt\"].notnull() & \n",
    "                                merged_peak[\"../data/enhancer_adult_cutoff16tag.txt\"].isnull() ]\n",
    "fetal_unique_enhancer_id =list(fetal_unique_enhancer[\"../data/enhancer_fetal_cutoff16tag.txt\"])\n"
   ]
  },
  {
   "cell_type": "code",
   "execution_count": null,
   "metadata": {},
   "outputs": [],
   "source": [
    "fetal_enhancer = pd.read_csv('../data/enhancer_fetal_cutoff16tag.txt',sep='\\t',header=0,index_col=0)\n",
    "fetal_motif = pd.read_csv(\"../motif/fetal_enhancer_motif.txt\",sep='\\t',index_col=0)\n",
    "fetal_motif[\"Motif Name New\"]=fetal_motif.apply(lambda x: x[\"Motif Name\"].split(\"$\")[0],axis=1)\n",
    "#geneout=mg.querymany(enhancer[\"Nearest PromoterID\"], scopes='refseq',species=\"human\",as_dataframe=True,fields='symbol')\n",
    "#enhancer['geneSymbol']=list(geneout['symbol'])\n",
    "#enhancer=enhancer[enhancer['geneSymbol'].isna()==False]  # only keep ones with gene symbols\n",
    "fetal_enhancer=fetal_enhancer[abs(fetal_enhancer[\"Distance to TSS\"])<500000] # limit distance\n",
    "fetal_enhancer=fetal_enhancer[fetal_enhancer['Gene Type'] =='protein-coding']"
   ]
  },
  {
   "cell_type": "code",
   "execution_count": null,
   "metadata": {},
   "outputs": [],
   "source": [
    "fetal_enhancer=fetal_enhancer.loc[fetal_unique_enhancer_id]\n",
    "fetal_motif=fetal_motif.loc[fetal_unique_enhancer_id]\n",
    "\n",
    "fetal_enhancer=fetal_enhancer.dropna()"
   ]
  },
  {
   "cell_type": "code",
   "execution_count": null,
   "metadata": {},
   "outputs": [],
   "source": [
    "fetal_edge_df=fetal_network[['Motif Name New','Gene Name']]\n",
    "fetal_edge_df.reset_index(inplace=True)\n",
    "fetal_edge_df=fetal_edge_df.drop_duplicates(subset=['PositionID',\"Motif Name New\"],keep='first')\n",
    "fetal_edge_df=fetal_edge_df.dropna()\n",
    "fetal_gene_dict={}\n",
    "for gene in list(set(fetal_edge_df[\"Motif Name New\"])):\n",
    "    fetal_gene_dict[gene]=list(fetal_edge_df[fetal_edge_df[\"Motif Name New\"]==gene][\"Gene Name\"])"
   ]
  }
 ],
 "metadata": {
  "kernelspec": {
   "display_name": "rickli",
   "language": "python",
   "name": "rickli"
  },
  "language_info": {
   "codemirror_mode": {
    "name": "ipython",
    "version": 3
   },
   "file_extension": ".py",
   "mimetype": "text/x-python",
   "name": "python",
   "nbconvert_exporter": "python",
   "pygments_lexer": "ipython3",
   "version": "3.7.7"
  }
 },
 "nbformat": 4,
 "nbformat_minor": 4
}
