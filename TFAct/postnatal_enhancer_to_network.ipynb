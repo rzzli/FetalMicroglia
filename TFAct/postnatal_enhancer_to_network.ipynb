{
 "cells": [
  {
   "cell_type": "code",
   "execution_count": null,
   "metadata": {},
   "outputs": [],
   "source": [
    "# the four packages below are the most useful and basic\n",
    "import pandas as pd\n",
    "import numpy as np\n",
    "import matplotlib.pyplot as plt\n",
    "import seaborn as sns\n",
    "import scipy.stats\n",
    "# a couple of more advanced packages\n",
    "from scipy.stats.stats import pearsonr,spearmanr\n",
    "from matplotlib_venn import venn2\n",
    "import mygene  \n",
    "\n",
    "mg = mygene.MyGeneInfo()\n",
    "#very important line that enables showing plots within jupyter notebook\n",
    "%matplotlib inline"
   ]
  },
  {
   "cell_type": "markdown",
   "metadata": {},
   "source": [
    "## select enhancer"
   ]
  },
  {
   "cell_type": "code",
   "execution_count": null,
   "metadata": {},
   "outputs": [],
   "source": [
    "%%bash\n",
    "export PATH=$PATH:/bioinformatics/homer/bin/\n",
    "\n",
    "peak_file='../adult_peak_atac/adult_peaks_164.txt'\n",
    "output='../data/adult_peak_anno.txt'\n",
    "\n",
    "annotatePeaks.pl $peak_file hg38 -norm 1e7 > $output\n",
    "echo \"done all\""
   ]
  },
  {
   "cell_type": "code",
   "execution_count": null,
   "metadata": {},
   "outputs": [],
   "source": [
    "annot_file = '../data/adult_peak_anno.txt'\n",
    "annot_file_df = pd.read_csv(annot_file, sep='\\t', index_col=0)\n",
    "annots = annot_file_df['Annotation']\n",
    "\n",
    "filtered_df1 = annot_file_df.loc[annots=='Intergenic'] \n",
    "filtered_df2 = annot_file_df.loc[annot_file_df.Annotation.str.contains('intron')]\n",
    "filtered_df=pd.concat([filtered_df1,filtered_df2])\n",
    "scaled_size = 500\n",
    "mid_points = (filtered_df.loc[:,'Start']+filtered_df.loc[:,'End'])//2\n",
    "filtered_df.loc[:,'Start'] = mid_points - int(scaled_size/2)\n",
    "filtered_df.loc[:,'End'] = mid_points + int(scaled_size/2)\n",
    "filtered_df.iloc[:,:6].to_csv(annot_file.replace('.txt', '_scaled.txt'), sep='\\t')"
   ]
  },
  {
   "cell_type": "code",
   "execution_count": null,
   "metadata": {},
   "outputs": [],
   "source": [
    "%%bash\n",
    "export PATH=$PATH:/bioinformatics/homer/bin/\n",
    "peak_file=../data/adult_peak_anno_scaled.txt\n",
    "annot_file=../data/h3k27ac_adult_peak_anno_scaled.txt\n",
    "tag_dir='../adult_chip_tag/chip/combined_h3k27ac'\n",
    "annotatePeaks.pl $peak_file hg38 -norm 1e7 -d $tag_dir > $annot_file"
   ]
  },
  {
   "cell_type": "code",
   "execution_count": null,
   "metadata": {},
   "outputs": [],
   "source": [
    "directory = './'\n",
    "annot_file = '../data/h3k27ac_adult_peak_anno_scaled.txt'\n",
    "annot_df = pd.read_csv(directory + annot_file, sep='\\t', index_col=0)\n",
    "annot_df.index.name = None\n",
    "annot = np.array(annot_df.loc[:,'Annotation'])\n",
    "select_region=annot_df.loc[(annot_df.iloc[:,18]>16) ]\n",
    "scaled_size = 200\n",
    "mid_points = (select_region.loc[:,'Start']+select_region.loc[:,'End'])//2\n",
    "select_region.loc[:,'Start'] = mid_points - int(scaled_size/2)\n",
    "select_region.loc[:,'End'] = mid_points + int(scaled_size/2)\n",
    "select_region.to_csv(\"../data/enhancer_adult_cutoff16tag.txt\",sep = \"\\t\")"
   ]
  },
  {
   "cell_type": "markdown",
   "metadata": {},
   "source": [
    "## search TF motifs from enhancer"
   ]
  },
  {
   "cell_type": "code",
   "execution_count": null,
   "metadata": {},
   "outputs": [],
   "source": [
    "%%bash \n",
    "export PATH=$PATH:/bioinformatics/homer/bin/\n",
    "#mkdir -p motif\n",
    "motif_lib=~/daima/python/merge_motif_Jun2020/jaspar/Homer_format_motif_JASPAR.txt\n",
    "\n",
    "outfile=../motif/adult_enhancer_motif.txt\n",
    "findMotifsGenome.pl ../data/enhancer_adult_cutoff16tag.txt hg38 ../motif/ -size 200 -p 40 -find $motif_lib > $outfile"
   ]
  },
  {
   "cell_type": "markdown",
   "metadata": {},
   "source": [
    "## build TF-gene network"
   ]
  },
  {
   "cell_type": "code",
   "execution_count": null,
   "metadata": {},
   "outputs": [],
   "source": [
    "%%bash\n",
    "export PATH=$PATH:/bioinformatics/homer/bin/\n",
    "\n",
    "mergePeaks -d 100 ../data/enhancer_adult_cutoff16tag.txt ../data/enhancer_adult_cutoff16tag.txt > ../data/adult_adult_merged_peak.txt"
   ]
  },
  {
   "cell_type": "code",
   "execution_count": null,
   "metadata": {},
   "outputs": [],
   "source": [
    "merged_peak = pd.read_csv('../data/adult_adult_merged_peak.txt',sep='\\t',header=0,index_col=0)\n",
    "adult_unique_enhancer= merged_peak[merged_peak[\"../data/enhancer_adult_cutoff16tag.txt\"].notnull() & \n",
    "                                merged_peak[\"../data/enhancer_adult_cutoff16tag.txt\"].isnull() ]\n",
    "adult_unique_enhancer_id =list(adult_unique_enhancer[\"../data/enhancer_adult_cutoff16tag.txt\"])\n"
   ]
  },
  {
   "cell_type": "code",
   "execution_count": null,
   "metadata": {},
   "outputs": [],
   "source": [
    "adult_enhancer = pd.read_csv('../data/enhancer_adult_cutoff16tag.txt',sep='\\t',header=0,index_col=0)\n",
    "adult_motif = pd.read_csv(\"../motif/adult_enhancer_motif.txt\",sep='\\t',index_col=0)\n",
    "adult_motif[\"Motif Name New\"]=adult_motif.apply(lambda x: x[\"Motif Name\"].split(\"$\")[0],axis=1)\n",
    "#geneout=mg.querymany(enhancer[\"Nearest PromoterID\"], scopes='refseq',species=\"human\",as_dataframe=True,fields='symbol')\n",
    "#enhancer['geneSymbol']=list(geneout['symbol'])\n",
    "#enhancer=enhancer[enhancer['geneSymbol'].isna()==False]  # only keep ones with gene symbols\n",
    "adult_enhancer=adult_enhancer[abs(adult_enhancer[\"Distance to TSS\"])<500000] # limit distance\n",
    "adult_enhancer=adult_enhancer[adult_enhancer['Gene Type'] =='protein-coding']"
   ]
  },
  {
   "cell_type": "code",
   "execution_count": null,
   "metadata": {},
   "outputs": [],
   "source": [
    "adult_enhancer=adult_enhancer.loc[adult_unique_enhancer_id]\n",
    "adult_motif=adult_motif.loc[adult_unique_enhancer_id]\n",
    "\n",
    "adult_enhancer=adult_enhancer.dropna()"
   ]
  },
  {
   "cell_type": "code",
   "execution_count": null,
   "metadata": {},
   "outputs": [],
   "source": [
    "adult_edge_df=adult_network[['Motif Name New','Gene Name']]\n",
    "adult_edge_df.reset_index(inplace=True)\n",
    "adult_edge_df=adult_edge_df.drop_duplicates(subset=['PositionID',\"Motif Name New\"],keep='first')\n",
    "adult_edge_df=adult_edge_df.dropna()\n",
    "adult_gene_dict={}\n",
    "for gene in list(set(adult_edge_df[\"Motif Name New\"])):\n",
    "    adult_gene_dict[gene]=list(adult_edge_df[adult_edge_df[\"Motif Name New\"]==gene][\"Gene Name\"])"
   ]
  }
 ],
 "metadata": {
  "kernelspec": {
   "display_name": "rickli",
   "language": "python",
   "name": "rickli"
  },
  "language_info": {
   "codemirror_mode": {
    "name": "ipython",
    "version": 3
   },
   "file_extension": ".py",
   "mimetype": "text/x-python",
   "name": "python",
   "nbconvert_exporter": "python",
   "pygments_lexer": "ipython3",
   "version": "3.7.7"
  }
 },
 "nbformat": 4,
 "nbformat_minor": 4
}
